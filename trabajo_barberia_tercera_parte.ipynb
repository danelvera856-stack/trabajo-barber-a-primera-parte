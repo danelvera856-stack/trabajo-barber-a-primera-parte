{
 "cells": [
  {
   "cell_type": "code",
   "execution_count": null,
   "id": "cc271504",
   "metadata": {},
   "outputs": [],
   "source": [
    "frame_turnos = ttk.Frame(notebook)\n",
    "notebook.add(frame_turnos, text=\"Turnos\")\n",
    "\n",
    "ttk.Label(frame_turnos, text=\"Cliente:\").grid(row=0, column=0, padx=5, pady=5)\n",
    "combo_cliente = ttk.Combobox(frame_turnos, width=25)\n",
    "combo_cliente.grid(row=0, column=1, padx=5, pady=5)\n",
    "\n",
    "ttk.Label(frame_turnos, text=\"Servicio:\").grid(row=1, column=0, padx=5, pady=5)\n",
    "combo_servicio = ttk.Combobox(frame_turnos, width=25)\n",
    "combo_servicio.grid(row=1, column=1, padx=5, pady=5)\n",
    "\n",
    "ttk.Label(frame_turnos, text=\"Fecha (Dd/Mm/Aa):\").grid(row=2, column=0, padx=5, pady=5)\n",
    "entry_fecha = ttk.Entry(frame_turnos)\n",
    "entry_fecha.grid(row=2, column=1, padx=5, pady=5)\n",
    "\n",
    "ttk.Label(frame_turnos, text=\"Hora (HH:MM):\").grid(row=3, column=0, padx=5, pady=5)\n",
    "entry_hora = ttk.Entry(frame_turnos)\n",
    "entry_hora.grid(row=3, column=1, padx=5, pady=5)\n",
    "\n",
    "ttk.Button(frame_turnos, text=\"📂Guardar Turno\", command=guardar_turno).grid(row=4, column=0, columnspan=2, pady=10)\n",
    "\n",
    "                                       #boton eliminar turno\n",
    "def eliminar_turno():\n",
    "    seleccionado = tabla_turnos.selection()\n",
    "    if not seleccionado:\n",
    "        messagebox.showwarning(\"⚠\", \"Seleccione un turno para eliminar.\")\n",
    "        return\n",
    "    tabla_turnos.delete(seleccionado)\n",
    "    messagebox.showinfo(\"✅\",\"turno eliminado🚮\")                              \n",
    "btn_eliminar_turno = ttk.Button(frame_turnos, text=\"🗑 Eliminar Turno\", command=eliminar_turno)\n",
    "btn_eliminar_turno.grid(row=4, column=2,columnspan=2,pady=10)\n",
    "\n",
    "\n",
    "tabla_turnos = ttk.Treeview(frame_turnos, columns=(\"cliente\",\"servicio\",\"fecha\",\"hora\"), show=\"headings\")\n",
    "tabla_turnos.heading(\"cliente\", text=\"Cliente\")\n",
    "tabla_turnos.heading(\"servicio\", text=\"Servicio\")\n",
    "tabla_turnos.heading(\"fecha\", text=\"Fecha\")\n",
    "tabla_turnos.heading(\"hora\", text=\"Hora\")\n",
    "tabla_turnos.grid(row=5, column=0, columnspan=2, padx=10, pady=10, sticky=\"nsew\")\n",
    "\n",
    "frame_turnos.grid_rowconfigure(5, weight=1)\n",
    "frame_turnos.grid_columnconfigure(1, weight=1)\n",
    "mostrar_turnos()\n",
    "cargar_clientes_en_combobox()\n",
    "cargar_servicios_en_combobox()\n",
    "\n",
    "root.mainloop()"
   ]
  }
 ],
 "metadata": {
  "language_info": {
   "name": "python"
  }
 },
 "nbformat": 4,
 "nbformat_minor": 5
}
