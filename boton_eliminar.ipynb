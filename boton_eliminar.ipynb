{
 "cells": [
  {
   "cell_type": "code",
   "execution_count": null,
   "id": "e440b2d7",
   "metadata": {},
   "outputs": [],
   "source": [
    "def eliminar_....():\n",
    "    seleccionado = tabla_.....selection()\n",
    "    if not seleccionado:\n",
    "        messagebox.showwarning(\"⚠\", \"Seleccione ... para eliminar.\")\n",
    "        return\n",
    "    tabla_....delete(seleccionado)\n",
    "    messagebox.showinfo(\"✅\",\"... eliminado🚮\")                              \n",
    "btn_eliminar_... = ttk.Button(frame_..., text=\"🗑 Eliminar ...\", command=eliminar_...)\n",
    "btn_eliminar_....grid(row=4, column=2,columnspan=2,pady=10)"
   ]
  }
 ],
 "metadata": {
  "kernelspec": {
   "display_name": "Python 3",
   "language": "python",
   "name": "python3"
  },
  "language_info": {
   "name": "python",
   "version": "3.13.9"
  }
 },
 "nbformat": 4,
 "nbformat_minor": 5
}
